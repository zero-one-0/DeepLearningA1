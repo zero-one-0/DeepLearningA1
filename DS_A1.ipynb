{
  "nbformat": 4,
  "nbformat_minor": 0,
  "metadata": {
    "colab": {
      "provenance": []
    },
    "kernelspec": {
      "name": "python3",
      "display_name": "Python 3"
    },
    "language_info": {
      "name": "python"
    }
  },
  "cells": [
    {
      "cell_type": "code",
      "execution_count": null,
      "metadata": {
        "id": "6iP5jIHu_8SV"
      },
      "outputs": [],
      "source": [
        "# import all the libraies\n",
        "import matplotlib.pyplot as plt\n",
        "import numpy as np\n",
        "import pandas as pd\n",
        "import torch                                        # root package\n",
        "from torch.utils.data import Dataset, DataLoader    # dataset representation and loading\n",
        "import torch.autograd as autograd         # computation graph\n",
        "from torch import Tensor                  # tensor node in the computation graph\n",
        "import torch.nn as nn                     # neural networks\n",
        "import torch.nn.functional as F           # layers, activations and more\n",
        "import torch.optim as optim               # optimizers e.g. gradient descent, ADAM, etc.\n",
        "from torch.jit import script, trace       # hybrid frontend decorator and tracing jit\n",
        "import torchvision\n",
        "from torchvision import datasets\n",
        "from torchvision.transforms import ToTensor , Lambda\n",
        "from torchvision import transforms\n",
        "%matplotlib inline"
      ]
    },
    {
      "cell_type": "code",
      "source": [
        "transform =  transforms.Compose([transforms.ToTensor(), transforms.Normalize(mean=0.5, std=0.5)])"
      ],
      "metadata": {
        "id": "2FbJ6o-zDpah"
      },
      "execution_count": null,
      "outputs": []
    },
    {
      "cell_type": "code",
      "source": [
        "train = datasets.MNIST(root=\"./\", train=True, download=True, transform=transform)\n",
        "test = datasets.MNIST(root=\"./\", train=False, download=True, transform=transform)"
      ],
      "metadata": {
        "id": "tAKFPsuKAfIT"
      },
      "execution_count": null,
      "outputs": []
    },
    {
      "cell_type": "code",
      "source": [
        "train_dataloader = DataLoader(train, batch_size=64, shuffle=True)\n",
        "test_dataloader = DataLoader(test, batch_size=64, shuffle=True)"
      ],
      "metadata": {
        "id": "GxUbYK_vCFcl"
      },
      "execution_count": null,
      "outputs": []
    },
    {
      "cell_type": "code",
      "source": [
        "train_dataloader.dataset.train_data.shape"
      ],
      "metadata": {
        "colab": {
          "base_uri": "https://localhost:8080/"
        },
        "id": "UUXA30ldCYZr",
        "outputId": "c8d7a7cb-6159-4fe8-8230-021f9fffc6b0"
      },
      "execution_count": null,
      "outputs": [
        {
          "output_type": "stream",
          "name": "stderr",
          "text": [
            "/usr/local/lib/python3.8/dist-packages/torchvision/datasets/mnist.py:75: UserWarning: train_data has been renamed data\n",
            "  warnings.warn(\"train_data has been renamed data\")\n"
          ]
        },
        {
          "output_type": "execute_result",
          "data": {
            "text/plain": [
              "torch.Size([60000, 28, 28])"
            ]
          },
          "metadata": {},
          "execution_count": 5
        }
      ]
    },
    {
      "cell_type": "code",
      "source": [
        "input_size = train_dataloader.dataset.train_data.shape[1] * train_dataloader.dataset.train_data.shape[2]\n",
        "hidden_layers = [128,64,32]\n",
        "output_size = 10\n",
        "# print(input_size)"
      ],
      "metadata": {
        "id": "2xYsqjdmEr_a"
      },
      "execution_count": null,
      "outputs": []
    },
    {
      "cell_type": "code",
      "source": [
        "model = nn.Sequential(\n",
        "    nn.Linear(input_size, hidden_layers[0]),\n",
        "    nn.ReLU(),\n",
        "    nn.Linear(hidden_layers[0], hidden_layers[1]),\n",
        "    nn.ReLU(),\n",
        "    nn.Linear(hidden_layers[1], hidden_layers[2]),\n",
        "    nn.ReLU(),\n",
        "    nn.Dropout(0.05),\n",
        "    nn.Linear(hidden_layers[2], output_size),\n",
        "    nn.LogSoftmax(dim=1)\n",
        ")\n",
        "print(model)\n",
        "criterion = nn.NLLLoss()\n",
        "optimizer = optim.SGD(model.parameters(), lr=0.005)"
      ],
      "metadata": {
        "colab": {
          "base_uri": "https://localhost:8080/"
        },
        "id": "gNk1g47-Ftcv",
        "outputId": "dc2532c3-938d-403a-a383-3dddb36c3d0e"
      },
      "execution_count": null,
      "outputs": [
        {
          "output_type": "stream",
          "name": "stdout",
          "text": [
            "Sequential(\n",
            "  (0): Linear(in_features=784, out_features=128, bias=True)\n",
            "  (1): ReLU()\n",
            "  (2): Linear(in_features=128, out_features=64, bias=True)\n",
            "  (3): ReLU()\n",
            "  (4): Linear(in_features=64, out_features=32, bias=True)\n",
            "  (5): ReLU()\n",
            "  (6): Dropout(p=0.05, inplace=False)\n",
            "  (7): Linear(in_features=32, out_features=10, bias=True)\n",
            "  (8): LogSoftmax(dim=1)\n",
            ")\n"
          ]
        }
      ]
    },
    {
      "cell_type": "code",
      "source": [
        "epochs = 60\n",
        "\n",
        "trainingEpoch_loss = []\n",
        "testingEpoch_loss = []\n",
        "\n",
        "for epoch in range(epochs):\n",
        "    step_loss = []\n",
        "    model.train()\n",
        "    i=0\n",
        "    for images, labels in train_dataloader:\n",
        "        images = images.view(images.shape[0], -1)\n",
        "         \n",
        "        # Clear the gradients\n",
        "        optimizer.zero_grad()\n",
        "        # Forward Pass\n",
        "        outputs = model(images)\n",
        "        # Find the Loss\n",
        "        training_loss = criterion(outputs, labels)\n",
        "        # Calculate gradients\n",
        "        training_loss.backward()\n",
        "        # Update Weights\n",
        "        optimizer.step()\n",
        "        # Calculate Loss\n",
        "        step_loss.append(training_loss.item())\n",
        "        \n",
        "    trainingEpoch_loss.append(np.array(step_loss).mean())\n",
        "\n",
        "    model.eval()     # Optional when not using Model Specific layer\n",
        "    for images, labels in test_dataloader:\n",
        "        testStep_loss = []\n",
        "        images = images.view(images.shape[0], -1)\n",
        "        \n",
        "        # Forward Pass\n",
        "        outputs = model(images)\n",
        "        # Find the Loss\n",
        "        test_loss = criterion(outputs, labels)\n",
        "        # Calculate Loss\n",
        "        testStep_loss.append(test_loss.item())\n",
        "    testingEpoch_loss.append(np.array(testStep_loss).mean())"
      ],
      "metadata": {
        "id": "y-KZ-5I86jWZ"
      },
      "execution_count": null,
      "outputs": []
    },
    {
      "cell_type": "code",
      "source": [
        "plt.plot(trainingEpoch_loss, label='train_loss')\n",
        "plt.plot(testingEpoch_loss,label='test_loss')\n",
        "plt.ylabel(\"Loss\")\n",
        "plt.legend()\n",
        "plt.show()"
      ],
      "metadata": {
        "colab": {
          "base_uri": "https://localhost:8080/",
          "height": 265
        },
        "id": "hdm6sjUe7SWi",
        "outputId": "c82bfff0-ccea-43ef-8ba9-892aa26e4eaf"
      },
      "execution_count": null,
      "outputs": [
        {
          "output_type": "display_data",
          "data": {
            "text/plain": [
              "<Figure size 432x288 with 1 Axes>"
            ],
            "image/png": "[encoded data removed]"
          },
          "metadata": {
            "needs_background": "light"
          }
        }
      ]
    },
    {
      "cell_type": "code",
      "source": [],
      "metadata": {
        "id": "Ntzj8vV1C-lR"
      },
      "execution_count": null,
      "outputs": []
    }
  ]
}